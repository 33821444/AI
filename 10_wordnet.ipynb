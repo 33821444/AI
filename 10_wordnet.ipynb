{
  "nbformat": 4,
  "nbformat_minor": 0,
  "metadata": {
    "colab": {
      "name": "10.wordnet.ipynb",
      "provenance": []
    },
    "kernelspec": {
      "name": "python3",
      "display_name": "Python 3"
    },
    "language_info": {
      "name": "python"
    }
  },
  "cells": [
    {
      "cell_type": "markdown",
      "source": [
        "# 中文wordent\n",
        "\n",
        "##### 完整用法:https://github.com/lopentu/CwnGraph\n",
        "\n",
        "- 要表達字詞，必須透過向量的表示法，例如one-hot encoding\n",
        "- 然而一個字詞代表一個向量維度，會造成向量維度空間太大，造成之後計算困難，因此必須要把相似字詞做合併\n",
        "- 早期的用法是透過查詢wordnet。wordnet是透過人工的方式，建立起字詞之間的關係\n",
        "- 本範例介紹中文的wordnet，查詢\"頭\"這個字，看有多少跟\"頭\"相關的字詞\n",
        "- 另外介紹英文的wordnet，查詢跟\"dog\"相似的字詞"
      ],
      "metadata": {
        "id": "e-VbRcrE1G2G"
      }
    },
    {
      "cell_type": "code",
      "execution_count": 1,
      "metadata": {
        "colab": {
          "base_uri": "https://localhost:8080/"
        },
        "id": "ilp6OoKK1EVg",
        "outputId": "605350e7-570d-432c-9d0b-c351e58cf285"
      },
      "outputs": [
        {
          "output_type": "stream",
          "name": "stdout",
          "text": [
            "Collecting CwnGraph\n",
            "  Downloading CwnGraph-0.2.0.tar.gz (27 kB)\n",
            "Requirement already satisfied: gdown in /usr/local/lib/python3.7/dist-packages (from CwnGraph) (4.4.0)\n",
            "Requirement already satisfied: beautifulsoup4 in /usr/local/lib/python3.7/dist-packages (from gdown->CwnGraph) (4.6.3)\n",
            "Requirement already satisfied: six in /usr/local/lib/python3.7/dist-packages (from gdown->CwnGraph) (1.15.0)\n",
            "Requirement already satisfied: requests[socks] in /usr/local/lib/python3.7/dist-packages (from gdown->CwnGraph) (2.23.0)\n",
            "Requirement already satisfied: filelock in /usr/local/lib/python3.7/dist-packages (from gdown->CwnGraph) (3.6.0)\n",
            "Requirement already satisfied: tqdm in /usr/local/lib/python3.7/dist-packages (from gdown->CwnGraph) (4.64.0)\n",
            "Requirement already satisfied: certifi>=2017.4.17 in /usr/local/lib/python3.7/dist-packages (from requests[socks]->gdown->CwnGraph) (2021.10.8)\n",
            "Requirement already satisfied: urllib3!=1.25.0,!=1.25.1,<1.26,>=1.21.1 in /usr/local/lib/python3.7/dist-packages (from requests[socks]->gdown->CwnGraph) (1.24.3)\n",
            "Requirement already satisfied: idna<3,>=2.5 in /usr/local/lib/python3.7/dist-packages (from requests[socks]->gdown->CwnGraph) (2.10)\n",
            "Requirement already satisfied: chardet<4,>=3.0.2 in /usr/local/lib/python3.7/dist-packages (from requests[socks]->gdown->CwnGraph) (3.0.4)\n",
            "Requirement already satisfied: PySocks!=1.5.7,>=1.5.6 in /usr/local/lib/python3.7/dist-packages (from requests[socks]->gdown->CwnGraph) (1.7.1)\n",
            "Building wheels for collected packages: CwnGraph\n",
            "  Building wheel for CwnGraph (setup.py) ... \u001b[?25l\u001b[?25hdone\n",
            "  Created wheel for CwnGraph: filename=CwnGraph-0.2.0-py3-none-any.whl size=28834 sha256=e4b917937ce10b69ccb696799b38d6a412326ce927c9cf77fe79142c2bb3bf4f\n",
            "  Stored in directory: /root/.cache/pip/wheels/9d/35/e7/8f40ef849b2c591674f2cad419eac267821203ed5859b3f68b\n",
            "Successfully built CwnGraph\n",
            "Installing collected packages: CwnGraph\n",
            "Successfully installed CwnGraph-0.2.0\n"
          ]
        }
      ],
      "source": [
        "!pip install CwnGraph"
      ]
    },
    {
      "cell_type": "markdown",
      "source": [
        "# 將`cwn_graph.pyobj`上傳到colab目錄\n",
        "- cwn_graph.pyobj下載連結：https://github.com/joshhu/nlp_must2022/raw/main/cwn_graph.pyobj\n",
        "- 下載完成後，上傳至colab目錄，需等待上傳結束後，才可以繼續下一步執行 (上傳需數分鐘)\n"
      ],
      "metadata": {
        "id": "OFsINYHt1u-P"
      }
    },
    {
      "cell_type": "code",
      "source": [
        "from pprint import pprint\n",
        "from CwnGraph import CwnBase\n",
        "CwnBase.install_cwn(\"cwn_graph.pyobj\")"
      ],
      "metadata": {
        "colab": {
          "base_uri": "https://localhost:8080/"
        },
        "id": "AMrh7gBy1yOA",
        "outputId": "20047155-b756-4c4c-91a1-6c998cc36fe6"
      },
      "execution_count": 2,
      "outputs": [
        {
          "output_type": "stream",
          "name": "stdout",
          "text": [
            "CWN data installed\n"
          ]
        }
      ]
    },
    {
      "cell_type": "code",
      "source": [
        "from CwnGraph import CwnBase\n",
        "cwn=CwnBase()"
      ],
      "metadata": {
        "id": "tASgNcYF3r6V"
      },
      "execution_count": 3,
      "outputs": []
    },
    {
      "cell_type": "code",
      "source": [
        "lemmas=cwn.find_lemma(\"香\")\n",
        "lemmas"
      ],
      "metadata": {
        "colab": {
          "base_uri": "https://localhost:8080/"
        },
        "id": "c4AyI__V311u",
        "outputId": "19cea13e-2921-4026-b14a-f9e42b79bada"
      },
      "execution_count": 4,
      "outputs": [
        {
          "output_type": "execute_result",
          "data": {
            "text/plain": [
              "[<CwnLemma: 進香_1>,\n",
              " <CwnLemma: 分香_1>,\n",
              " <CwnLemma: 燒香灰_1>,\n",
              " <CwnLemma: 香_1>,\n",
              " <CwnLemma: 香港_1>,\n",
              " <CwnLemma: 香_2>,\n",
              " <CwnLemma: 紫丁香_1>,\n",
              " <CwnLemma: 香蕉樹_1>,\n",
              " <CwnLemma: 鬱金香_1>,\n",
              " <CwnLemma: 夜來香_1>,\n",
              " <CwnLemma: 妥路香_1>,\n",
              " <CwnLemma: 檀香_1>,\n",
              " <CwnLemma: 百里香_1>,\n",
              " <CwnLemma: 香菇_1>,\n",
              " <CwnLemma: 龍涎香_1>,\n",
              " <CwnLemma: 香蕉油_1>,\n",
              " <CwnLemma: 乳香脂_1>,\n",
              " <CwnLemma: 芳香_1>,\n",
              " <CwnLemma: 麝香_1>,\n",
              " <CwnLemma: 古色古香_1>,\n",
              " <CwnLemma: 薰香_1>,\n",
              " <CwnLemma: 抹香鯨_1>,\n",
              " <CwnLemma: 麝香鹿_1>,\n",
              " <CwnLemma: 香氣_1>,\n",
              " <CwnLemma: 香味_1>,\n",
              " <CwnLemma: 香水_1>,\n",
              " <CwnLemma: 口香糖_1>,\n",
              " <CwnLemma: 香腸_1>,\n",
              " <CwnLemma: 香櫞_1>,\n",
              " <CwnLemma: 香蕉_1>,\n",
              " <CwnLemma: 洋香瓜_1>,\n",
              " <CwnLemma: 香料_1>,\n",
              " <CwnLemma: 丁香_1>,\n",
              " <CwnLemma: 茴香_1>,\n",
              " <CwnLemma: 香檳酒_1>,\n",
              " <CwnLemma: 香魚_1>,\n",
              " <CwnLemma: 香煙_1>,\n",
              " <CwnLemma: 香精_1>,\n",
              " <CwnLemma: 香袋_1>,\n",
              " <CwnLemma: 香粉_1>,\n",
              " <CwnLemma: 香皂_1>,\n",
              " <CwnLemma: 燒香_1>,\n",
              " <CwnLemma: 香爐_None>]"
            ]
          },
          "metadata": {},
          "execution_count": 4
        }
      ]
    },
    {
      "cell_type": "markdown",
      "source": [
        "# 英文wordent\n",
        "完整用法：https://www.nltk.org/howto/wordnet.html\n"
      ],
      "metadata": {
        "id": "NW6tUpW64LP2"
      }
    },
    {
      "cell_type": "code",
      "source": [
        "import nltk\n",
        "nltk.download('wordnet')\n",
        "from nltk.corpus import wordnet as wn\n",
        "wn.synsets('banana')"
      ],
      "metadata": {
        "colab": {
          "base_uri": "https://localhost:8080/"
        },
        "id": "4qal6lUG4TSj",
        "outputId": "b43dc572-cbee-4a09-fb0d-14c9c28ab7c8"
      },
      "execution_count": 6,
      "outputs": [
        {
          "output_type": "stream",
          "name": "stdout",
          "text": [
            "[nltk_data] Downloading package wordnet to /root/nltk_data...\n",
            "[nltk_data]   Package wordnet is already up-to-date!\n"
          ]
        },
        {
          "output_type": "execute_result",
          "data": {
            "text/plain": [
              "[Synset('banana.n.01'), Synset('banana.n.02')]"
            ]
          },
          "metadata": {},
          "execution_count": 6
        }
      ]
    }
  ]
}