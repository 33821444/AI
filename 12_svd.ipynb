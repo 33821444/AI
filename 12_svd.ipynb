{
  "nbformat": 4,
  "nbformat_minor": 0,
  "metadata": {
    "colab": {
      "name": "12.svd.ipynb",
      "provenance": []
    },
    "kernelspec": {
      "name": "python3",
      "display_name": "Python 3"
    },
    "language_info": {
      "name": "python"
    }
  },
  "cells": [
    {
      "cell_type": "markdown",
      "source": [
        "# SVD奇異值分解(Singular Value Decomposition)\n",
        "- 利用分散式表示法來表示字詞，除了之前用統計機率方式計算的PMI之外，還可以利用矩陣方式計算的SVD\n",
        "- SVD是透過矩陣的奇異值分解成U、S、V三個矩陣，來找出字詞之間的高維隱含關係(U、S、V各代表字詞不同的隱含關係)\n",
        "- 本範例是計算PMI範例並進行SVD分解，然後畫出字詞U矩陣，讓同學了解字詞之間的關係"
      ],
      "metadata": {
        "id": "ycTmqiCfSCgR"
      }
    },
    {
      "cell_type": "code",
      "execution_count": 7,
      "metadata": {
        "colab": {
          "base_uri": "https://localhost:8080/"
        },
        "id": "BDTdqjhcRT2e",
        "outputId": "6f0d4d65-f58f-43bc-eeae-8aa77f773980"
      },
      "outputs": [
        {
          "output_type": "stream",
          "name": "stdout",
          "text": [
            "--2022-04-17 16:28:04--  https://drive.google.com/uc?id=1eGAsTN1HBpJAkeVM57_C7ccp7hbgSz3_\n",
            "Resolving drive.google.com (drive.google.com)... 142.250.157.139, 142.250.157.100, 142.250.157.101, ...\n",
            "Connecting to drive.google.com (drive.google.com)|142.250.157.139|:443... connected.\n",
            "HTTP request sent, awaiting response... 303 See Other\n",
            "Location: https://doc-0k-9o-docs.googleusercontent.com/docs/securesc/ha0ro937gcuc7l7deffksulhg5h7mbp1/f6o3heavkdqi9f0pdhhb0eiltu1lb9qo/1650212850000/02847987870453524430/*/1eGAsTN1HBpJAkeVM57_C7ccp7hbgSz3_ [following]\n",
            "Warning: wildcards not supported in HTTP.\n",
            "--2022-04-17 16:28:08--  https://doc-0k-9o-docs.googleusercontent.com/docs/securesc/ha0ro937gcuc7l7deffksulhg5h7mbp1/f6o3heavkdqi9f0pdhhb0eiltu1lb9qo/1650212850000/02847987870453524430/*/1eGAsTN1HBpJAkeVM57_C7ccp7hbgSz3_\n",
            "Resolving doc-0k-9o-docs.googleusercontent.com (doc-0k-9o-docs.googleusercontent.com)... 142.250.157.132, 2404:6800:4008:c13::84\n",
            "Connecting to doc-0k-9o-docs.googleusercontent.com (doc-0k-9o-docs.googleusercontent.com)|142.250.157.132|:443... connected.\n",
            "HTTP request sent, awaiting response... 200 OK\n",
            "Length: 20659344 (20M) [application/x-font-ttf]\n",
            "Saving to: ‘TaipeiSansTCBeta-Regular.ttf’\n",
            "\n",
            "TaipeiSansTCBeta-Re 100%[===================>]  19.70M  --.-KB/s    in 0.1s    \n",
            "\n",
            "2022-04-17 16:28:09 (182 MB/s) - ‘TaipeiSansTCBeta-Regular.ttf’ saved [20659344/20659344]\n",
            "\n"
          ]
        }
      ],
      "source": [
        "#colab 進行matplotlib繪圖時顯示繁體中文\n",
        "#下載台北思源黑體並命名taipei_sans_tc_beta.ttf,移至指定路徑\n",
        "!wget -O TaipeiSansTCBeta-Regular.ttf https://drive.google.com/uc?id=1eGAsTN1HBpJAkeVM57_C7ccp7hbgSz3_&export=download\n",
        "\n",
        "import matplotlib as mpl\n",
        "import matplotlib.pyplot as plt\n",
        "from matplotlib.font_manager import fontManager\n",
        "\n",
        "#改style要在改font之前\n",
        "#plt.style.use('seaborn')\n",
        "\n",
        "fontManager.addfont('TaipeiSansTCBeta-Regular.ttf')\n",
        "mpl.rc('font',family='Taipei Sans TC Beta')"
      ]
    },
    {
      "cell_type": "code",
      "source": [
        "# Defined in Section 2.1.2\n",
        "\n",
        "import numpy as np\n",
        "\n",
        "M=np.array([[0,2,1,1,1,1,1,2,1,3],\n",
        "              [2,0,1,1,1,0,0,1,1,2],\n",
        "              [1,1,0,1,1,0,0,0,0,1],\n",
        "              [1,1,1,0,1,0,0,0,0,1],\n",
        "              [1,1,1,1,0,0,0,0,0,1],\n",
        "              [1,0,0,0,0,0,1,1,0,1],\n",
        "              [1,0,0,0,0,1,0,1,0,1],\n",
        "              [2,1,0,0,0,1,1,0,1,2],\n",
        "              [1,1,0,0,0,0,0,1,0,1],\n",
        "              [3,2,1,1,1,1,1,2,1,0]])\n",
        "\n",
        "def pmi(M,positive=True):\n",
        "    col_totals = M.sum(axis=0)\n",
        "    row_totals = M.sum(axis=1)\n",
        "    total=col_totals.sum()\n",
        "    expected=np.outer(row_totals,col_totals)/total\n",
        "    M=M/expected\n",
        "    # Silence distracting warnings about log(0):\n",
        "    with np.errstate(divide='ignore'):\n",
        "        m=np.log(M)\n",
        "    M[np.isinf(M)]=0.0 #log(0)=0\n",
        "    if positive:\n",
        "        M[M<0]=0.0\n",
        "    return M\n",
        "\n",
        "M_pmi=pmi(M)\n",
        "\n",
        "np.set_printoptions(precision=2)\n",
        "U,s,Vh=np.linalg.svd(M_pmi)\n",
        "\n",
        "import matplotlib.pyplot as plt\n",
        "plt.rcParams['font.sans-serif']=['Arial Unicode MS']\n",
        "\n",
        "words=[\"我\",\"喜歡\",\"自然\",\"語言\",\"處理\",\"愛\",\"深度\",\"學習\",\"機器\",\"。\"]\n",
        "\n",
        "for i in range(len(words)):\n",
        "    plt.text(U[i,0],U[i,1],words[i])\n",
        "plt.xlim(0,0.6)\n",
        "plt.ylim(-0.5,0.6)\n",
        "plt.show()"
      ],
      "metadata": {
        "colab": {
          "base_uri": "https://localhost:8080/",
          "height": 269
        },
        "id": "IAyLmwiaTYL-",
        "outputId": "63a3ac03-2fca-43f1-8c22-fcb82b19b6c1"
      },
      "execution_count": 9,
      "outputs": [
        {
          "output_type": "display_data",
          "data": {
            "text/plain": [
              "<Figure size 432x288 with 1 Axes>"
            ],
            "image/png": "[encoded data removed]"
          },
          "metadata": {
            "needs_background": "light"
          }
        }
      ]
    }
  ]
}