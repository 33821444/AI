{
  "nbformat": 4,
  "nbformat_minor": 0,
  "metadata": {
    "colab": {
      "name": "1_Gradient_descent.ipynb",
      "provenance": []
    },
    "kernelspec": {
      "name": "python3",
      "display_name": "Python 3"
    },
    "language_info": {
      "name": "python"
    }
  },
  "cells": [
    {
      "cell_type": "markdown",
      "source": [
        "# 梯度縮減(Gradient Descent)\n",
        "\n",
        "##### 以y=x^2為範例，說明深度學習網路如何透過可微分函數逼近目標最小值"
      ],
      "metadata": {
        "id": "W3yYy1HYg8Yv"
      }
    },
    {
      "cell_type": "code",
      "execution_count": 4,
      "metadata": {
        "colab": {
          "base_uri": "https://localhost:8080/",
          "height": 282
        },
        "id": "psciYg6Rg7Ac",
        "outputId": "d423ecd3-12c7-44fd-b0c6-9d4cab01cd39"
      },
      "outputs": [
        {
          "output_type": "stream",
          "name": "stdout",
          "text": [
            "[5. 2. 0. 0. 0. 0. 0. 0. 0. 0. 0. 0. 0. 0. 0. 0.]\n"
          ]
        },
        {
          "output_type": "display_data",
          "data": {
            "text/plain": [
              "<Figure size 432x288 with 1 Axes>"
            ],
            "image/png": "[encoded data removed]"
          },
          "metadata": {
            "needs_background": "light"
          }
        }
      ],
      "source": [
        "import numpy as np\n",
        "import matplotlib.pyplot as plt\n",
        "\n",
        "#目標函數 y=x^2\n",
        "def func(x):return np.square(x)\n",
        "\n",
        "#目標函數一階導數 dy/dx=2*x\n",
        "def dfunc(x):return 2*x\n",
        "\n",
        "def GD(x_start,df,epochs,lr):\n",
        "    \"\"\"  梯度下降法。給定起始點與目標函數的一階導函數，求在epochs次反覆運算中x的更新值\n",
        "        :param x_start: x的起始點    \n",
        "        :param df: 目標函數的一階導函數    \n",
        "        :param epochs: 反覆運算週期    \n",
        "        :param lr: 學習率    \n",
        "        :return: x在每次反覆運算後的位置（包括起始點），長度為epochs+1    \n",
        "     \"\"\"    \n",
        "    xs = np.zeros(epochs+1)    \n",
        "    x=x_start\n",
        "    xs[0]=x\n",
        "    for i in range(epochs):\n",
        "     dx=df(x)\n",
        "       # v表示x要改變的幅度\n",
        "     v=-dx*lr\n",
        "     x+=v\n",
        "     xs[i+1]=x\n",
        "     return xs\n",
        "\n",
        "#main\n",
        "#起始權重\n",
        "x_start=5\n",
        "#執行週期數\n",
        "epochs=15\n",
        "#學習率\n",
        "lr=0.3\n",
        "#梯度下降法\n",
        "x=GD(x_start,dfunc,epochs,lr=lr)\n",
        "print(x)\n",
        "# 輸出：[-5.     -2.     -0.8    -0.32   -0.128  -0.0512]\n",
        "\n",
        "color='r'\n",
        "#pLt,pLot(Line_x,Line_y,c='b')\n",
        "from numpy import arange\n",
        "t=arange(-6.0,6.0,0.01)\n",
        "plt.plot(t,func(t),c='b')\n",
        "plt.plot(x,func(x),c=color,label='lr={}'.format(lr))    \n",
        "plt.scatter(x,func(x),c=color,)    \n",
        "plt.legend()\n",
        "\n",
        "plt.show()"
      ]
    }
  ]
}