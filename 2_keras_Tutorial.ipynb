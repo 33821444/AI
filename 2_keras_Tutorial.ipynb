{
  "nbformat": 4,
  "nbformat_minor": 0,
  "metadata": {
    "colab": {
      "name": "2_keras_Tutorial.ipynb",
      "provenance": []
    },
    "kernelspec": {
      "name": "python3",
      "display_name": "Python 3"
    },
    "language_info": {
      "name": "python"
    }
  },
  "cells": [
    {
      "cell_type": "markdown",
      "source": [
        "# Keras深度學習初體驗1\n",
        "\n",
        "##### 利用keras套件，產生一個32個神經元的深度學習模型進行訓練\n"
      ],
      "metadata": {
        "id": "rvl5-yeJrJlB"
      }
    },
    {
      "cell_type": "code",
      "execution_count": 1,
      "metadata": {
        "colab": {
          "base_uri": "https://localhost:8080/"
        },
        "id": "mXJZ9SlalrwV",
        "outputId": "1d2d7e90-f50b-4199-a383-d1365b97cbec"
      },
      "outputs": [
        {
          "output_type": "stream",
          "name": "stdout",
          "text": [
            "(1000, 10)\n",
            "[0.39107834 0.05144606 0.93324962 0.29781371 0.7488307  0.1682301\n",
            " 0.0540454  0.19404835 0.4091932  0.23185566]\n",
            "(1000, 1)\n",
            "[1]\n",
            "Epoch 1/10\n",
            "32/32 [==============================] - 2s 5ms/step - loss: 0.6913 - accuracy: 0.5300\n",
            "Epoch 2/10\n",
            "32/32 [==============================] - 0s 4ms/step - loss: 0.6883 - accuracy: 0.5530\n",
            "Epoch 3/10\n",
            "32/32 [==============================] - 0s 4ms/step - loss: 0.6882 - accuracy: 0.5380\n",
            "Epoch 4/10\n",
            "32/32 [==============================] - 0s 7ms/step - loss: 0.6884 - accuracy: 0.5440\n",
            "Epoch 5/10\n",
            "32/32 [==============================] - 0s 4ms/step - loss: 0.6878 - accuracy: 0.5360\n",
            "Epoch 6/10\n",
            "32/32 [==============================] - 0s 4ms/step - loss: 0.6872 - accuracy: 0.5460\n",
            "Epoch 7/10\n",
            "32/32 [==============================] - 0s 4ms/step - loss: 0.6871 - accuracy: 0.5490\n",
            "Epoch 8/10\n",
            "32/32 [==============================] - 0s 4ms/step - loss: 0.6871 - accuracy: 0.5350\n",
            "Epoch 9/10\n",
            "32/32 [==============================] - 0s 4ms/step - loss: 0.6860 - accuracy: 0.5520\n",
            "Epoch 10/10\n",
            "32/32 [==============================] - 0s 4ms/step - loss: 0.6860 - accuracy: 0.5430\n",
            "32/32 [==============================] - 0s 3ms/step - loss: 0.6847 - accuracy: 0.5480\n",
            "0.5479999780654907\n"
          ]
        }
      ],
      "source": [
        "from tensorflow import keras\n",
        "from keras.models import Sequential\n",
        "from keras.layers import Dense\n",
        "\n",
        "import numpy as np\n",
        "data=np.random.random((1000,10))#隨機產生1000筆資料，每筆資料包含10個float數字\n",
        "labels=np.random.randint(2,size=(1000,1))#隨機產生1000比資料，每筆資料上限為2(0或10)\n",
        "print(np.shape(data))\n",
        "print(data[0])\n",
        "print(np.shape(labels))\n",
        "print(labels[0])\n",
        "\n",
        "model=Sequential()\n",
        "model.add(Dense(32,activation='relu',input_dim=10))\n",
        "model.add(Dense(1,activation='sigmoid'))\n",
        "model.compile(optimizer='rmsprop',loss='binary_crossentropy',metrics=['accuracy'])\n",
        "\n",
        "model.fit(data,labels,epochs=10,batch_size=32)\n",
        "\n",
        "score=model.evaluate(data,labels)\n",
        "print(score[1])\n",
        "\n",
        "\n"
      ]
    }
  ]
}